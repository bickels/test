{
 "cells": [
  {
   "cell_type": "markdown",
   "metadata": {},
   "source": [
    "# Interactivo"
   ]
  },
  {
   "cell_type": "code",
   "execution_count": 12,
   "metadata": {},
   "outputs": [],
   "source": [
    "import numpy as np\n",
    "import matplotlib.pyplot as plt\n",
    "\n",
    "import ipywidgets as widgets\n",
    "\n",
    "from IPython.display import display, HTML\n",
    "\n",
    "#%matplotlib notebook\n"
   ]
  },
  {
   "cell_type": "code",
   "execution_count": 13,
   "metadata": {},
   "outputs": [
    {
     "data": {
      "text/html": [
       "<script>\n",
       "code_show=true; \n",
       "function code_toggle() {\n",
       " if (code_show){\n",
       " $('div.input').hide();\n",
       " } else {\n",
       " $('div.input').show();\n",
       " }\n",
       " code_show = !code_show\n",
       "} \n",
       "$( document ).ready(code_toggle);\n",
       "</script>\n",
       "<form action=\"javascript:code_toggle()\"><input type=\"submit\" value=\"Click here to toggle on/off the raw code.\"></form>"
      ],
      "text/plain": [
       "<IPython.core.display.HTML object>"
      ]
     },
     "execution_count": 13,
     "metadata": {},
     "output_type": "execute_result"
    }
   ],
   "source": [
    "HTML('''<script>\n",
    "code_show=true; \n",
    "function code_toggle() {\n",
    " if (code_show){\n",
    " $('div.input').hide();\n",
    " } else {\n",
    " $('div.input').show();\n",
    " }\n",
    " code_show = !code_show\n",
    "} \n",
    "$( document ).ready(code_toggle);\n",
    "</script>\n",
    "<form action=\"javascript:code_toggle()\"><input type=\"submit\" value=\"Click here to toggle on/off the raw code.\"></form>''')"
   ]
  },
  {
   "cell_type": "code",
   "execution_count": 14,
   "metadata": {},
   "outputs": [
    {
     "data": {
      "application/vnd.jupyter.widget-view+json": {
       "model_id": "422229393ca44def8b9a9cdc42476b9b",
       "version_major": 2,
       "version_minor": 0
      },
      "text/plain": [
       "IntSlider(value=0)"
      ]
     },
     "metadata": {},
     "output_type": "display_data"
    },
    {
     "data": {
      "text/plain": [
       "\"\\nw = widgets.Button()\\ndisplay(w)\\n\\nw = widgets.FloatSlider()\\ndisplay(w)\\n\\nw = widgets.IntProgress()\\ndisplay(w)\\n\\nw = widgets.BoundedIntText()\\ndisplay(w)\\n\\nw = widgets.IntText()\\ndisplay(w)\\n\\nw = widgets.ToggleButton()\\ndisplay(w)\\n\\nw = widgets.Checkbox()\\ndisplay(w)\\n\\nw = widgets.Valid()\\ndisplay(w)\\n\\nw = widgets.Dropdown(options=['A', 'B', 'C'])\\ndisplay(w)\\n\\nw = widgets.RadioButtons(options=['A', 'B', 'C'])\\ndisplay(w)\\n\\nw = widgets.Select(options=['A', 'B', 'C'])\\ndisplay(w)\\n\\nw = widgets.SelectionSlider(options=['A', 'B', 'C'])\\ndisplay(w)\\n\\nw = widgets.SelectionRangeSlider(options=['A', 'B', 'C'])\\ndisplay(w)\\n\\nw = widgets.ToggleButtons(options=['A', 'B', 'C'])\\ndisplay(w)\\n\""
      ]
     },
     "execution_count": 14,
     "metadata": {},
     "output_type": "execute_result"
    }
   ],
   "source": [
    "\n",
    "w = widgets.IntSlider()\n",
    "display(w)\n",
    "'''\n",
    "w = widgets.Button()\n",
    "display(w)\n",
    "\n",
    "w = widgets.FloatSlider()\n",
    "display(w)\n",
    "\n",
    "w = widgets.IntProgress()\n",
    "display(w)\n",
    "\n",
    "w = widgets.BoundedIntText()\n",
    "display(w)\n",
    "\n",
    "w = widgets.IntText()\n",
    "display(w)\n",
    "\n",
    "w = widgets.ToggleButton()\n",
    "display(w)\n",
    "\n",
    "w = widgets.Checkbox()\n",
    "display(w)\n",
    "\n",
    "w = widgets.Valid()\n",
    "display(w)\n",
    "\n",
    "w = widgets.Dropdown(options=['A', 'B', 'C'])\n",
    "display(w)\n",
    "\n",
    "w = widgets.RadioButtons(options=['A', 'B', 'C'])\n",
    "display(w)\n",
    "\n",
    "w = widgets.Select(options=['A', 'B', 'C'])\n",
    "display(w)\n",
    "\n",
    "w = widgets.SelectionSlider(options=['A', 'B', 'C'])\n",
    "display(w)\n",
    "\n",
    "w = widgets.SelectionRangeSlider(options=['A', 'B', 'C'])\n",
    "display(w)\n",
    "\n",
    "w = widgets.ToggleButtons(options=['A', 'B', 'C'])\n",
    "display(w)\n",
    "'''"
   ]
  },
  {
   "cell_type": "code",
   "execution_count": 15,
   "metadata": {},
   "outputs": [
    {
     "data": {
      "application/vnd.jupyter.widget-view+json": {
       "model_id": "a42f93a3faae49429ac6db58780b22c4",
       "version_major": 2,
       "version_minor": 0
      },
      "text/plain": [
       "ColorPicker(value='black')"
      ]
     },
     "metadata": {},
     "output_type": "display_data"
    }
   ],
   "source": [
    "w = widgets.ColorPicker()\n",
    "display(w)"
   ]
  },
  {
   "cell_type": "code",
   "execution_count": 16,
   "metadata": {},
   "outputs": [
    {
     "data": {
      "application/vnd.jupyter.widget-view+json": {
       "model_id": "9c49ec3335f0432d972afe7a512e8757",
       "version_major": 2,
       "version_minor": 0
      },
      "text/plain": [
       "Accordion(children=(IntSlider(value=0), Text(value=u'')), _titles={u'1': 'Text', u'0': 'Slider'})"
      ]
     },
     "metadata": {},
     "output_type": "display_data"
    }
   ],
   "source": [
    "accordion = widgets.Accordion(children=[widgets.IntSlider(), widgets.Text()])\n",
    "accordion.set_title(0, 'Slider')\n",
    "accordion.set_title(1, 'Text')\n",
    "accordion"
   ]
  },
  {
   "cell_type": "code",
   "execution_count": 17,
   "metadata": {},
   "outputs": [
    {
     "data": {
      "application/vnd.jupyter.widget-view+json": {
       "model_id": "ed8f5cf264d54e8b8a502d33640471e7",
       "version_major": 2,
       "version_minor": 0
      },
      "text/plain": [
       "Tab(children=(Accordion(children=(IntSlider(value=0), Text(value=u'')), _titles={u'1': 'Text', u'0': 'Slider'}…"
      ]
     },
     "metadata": {},
     "output_type": "display_data"
    }
   ],
   "source": [
    "tab_nest = widgets.Tab()\n",
    "tab_nest.children = [accordion, accordion]\n",
    "tab_nest.set_title(0, 'An accordion')\n",
    "tab_nest.set_title(1, 'Copy of the accordion')\n",
    "tab_nest"
   ]
  },
  {
   "cell_type": "code",
   "execution_count": 18,
   "metadata": {},
   "outputs": [
    {
     "data": {
      "application/vnd.jupyter.widget-view+json": {
       "model_id": "4524b4d6e7194bc0adbc6263ce6b71dc",
       "version_major": 2,
       "version_minor": 0
      },
      "text/plain": [
       "HBox(children=(Play(value=50, description=u'Press play'), IntSlider(value=0)))"
      ]
     },
     "metadata": {},
     "output_type": "display_data"
    }
   ],
   "source": [
    "play = widgets.Play(\n",
    "#     interval=10,\n",
    "    value=50,\n",
    "    min=0,\n",
    "    max=100,\n",
    "    step=1,\n",
    "    description=\"Press play\",\n",
    "    disabled=False\n",
    ")\n",
    "slider = widgets.IntSlider()\n",
    "widgets.jslink((play, 'value'), (slider, 'value'))\n",
    "widgets.HBox([play, slider])"
   ]
  },
  {
   "cell_type": "markdown",
   "metadata": {},
   "source": [
    "## some plot"
   ]
  },
  {
   "cell_type": "markdown",
   "metadata": {},
   "source": [
    "$\\chi = A e^{\\kappa x} + \\sum x$"
   ]
  },
  {
   "cell_type": "code",
   "execution_count": 19,
   "metadata": {
    "scrolled": false
   },
   "outputs": [
    {
     "data": {
      "application/vnd.jupyter.widget-view+json": {
       "model_id": "dd84605001f140248e6242bf3e560b0d",
       "version_major": 2,
       "version_minor": 0
      },
      "text/plain": [
       "interactive(children=(FloatSlider(value=0.0, description=u'k', max=1.0, step=0.01), Output()), _dom_classes=(u…"
      ]
     },
     "metadata": {},
     "output_type": "display_data"
    },
    {
     "data": {
      "text/plain": [
       "<function __main__.plot>"
      ]
     },
     "execution_count": 19,
     "metadata": {},
     "output_type": "execute_result"
    }
   ],
   "source": [
    "x = np.linspace(0,1)\n",
    "def plot(k):\n",
    "    plt.plot(x,np.exp(k*x))\n",
    "    plt.show()\n",
    "\n",
    "widgets.interact(plot,k=(0,1,0.01))"
   ]
  },
  {
   "cell_type": "markdown",
   "metadata": {},
   "source": [
    "# some points\n",
    "- hei\n",
    "- no\n",
    "- again"
   ]
  },
  {
   "cell_type": "code",
   "execution_count": 20,
   "metadata": {},
   "outputs": [
    {
     "data": {
      "application/vnd.jupyter.widget-view+json": {
       "model_id": "8c577c096f484c259c9e117c4c2472e3",
       "version_major": 2,
       "version_minor": 0
      },
      "text/plain": [
       "interactive(children=(FloatSlider(value=0.5, description=u's', max=1.0, min=0.01, step=0.01), FloatSlider(valu…"
      ]
     },
     "metadata": {},
     "output_type": "display_data"
    },
    {
     "data": {
      "text/plain": [
       "<function __main__.plot>"
      ]
     },
     "execution_count": 20,
     "metadata": {},
     "output_type": "execute_result"
    }
   ],
   "source": [
    "def plot(s,k):\n",
    "    plt.imshow(np.random.gamma(s*k,s*k**2,size=(128,128)))\n",
    "    plt.show()\n",
    "widgets.interact(plot,k=(0.0,1,0.01), s=(0.01,1,0.01))"
   ]
  },
  {
   "cell_type": "code",
   "execution_count": null,
   "metadata": {},
   "outputs": [],
   "source": []
  },
  {
   "cell_type": "code",
   "execution_count": null,
   "metadata": {
    "collapsed": true
   },
   "outputs": [],
   "source": []
  }
 ],
 "metadata": {
  "kernelspec": {
   "display_name": "Python 2",
   "language": "python",
   "name": "python2"
  },
  "language_info": {
   "codemirror_mode": {
    "name": "ipython",
    "version": 2
   },
   "file_extension": ".py",
   "mimetype": "text/x-python",
   "name": "python",
   "nbconvert_exporter": "python",
   "pygments_lexer": "ipython2",
   "version": "2.7.12"
  }
 },
 "nbformat": 4,
 "nbformat_minor": 1
}
